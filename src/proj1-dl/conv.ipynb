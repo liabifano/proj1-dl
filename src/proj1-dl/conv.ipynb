{
 "cells": [
  {
   "cell_type": "code",
   "execution_count": null,
   "metadata": {},
   "outputs": [],
   "source": [
    "import torch\n",
    "from torch import Tensor\n",
    "import numpy as np\n",
    "from torch import nn\n",
    "import dlc_bci as bci\n",
    "from torch.autograd import Variable\n",
    "from torch import optim\n",
    "from torch.nn import functional as F\n",
    "from matplotlib.pyplot import plot\n",
    "%matplotlib inline"
   ]
  },
  {
   "cell_type": "code",
   "execution_count": null,
   "metadata": {},
   "outputs": [],
   "source": [
    "# # #data augmentation..overfitting watch out carefully\n",
    "# all_train = np.loadtxt('/Users/ana/Desktop/deeplearning/proj1-dl/resources/sp1s_aa_train.txt')\n",
    "# y_train, X_train = all_train[:,0], all_train[:,1:]\n",
    "# y_test, X_test = np.loadtxt('/Users/ana/Desktop/deeplearning/proj1-dl/resources/labels_data_set_iv.txt'), np.loadtxt('/Users/ana/Desktop/deeplearning/proj1-dl/resources/sp1s_aa_test.txt')"
   ]
  },
  {
   "cell_type": "markdown",
   "metadata": {},
   "source": [
    "### 0. Data loading and preprocessing"
   ]
  },
  {
   "cell_type": "markdown",
   "metadata": {},
   "source": [
    "#### Data loading"
   ]
  },
  {
   "cell_type": "code",
   "execution_count": null,
   "metadata": {
    "scrolled": true
   },
   "outputs": [],
   "source": [
    "train_input, train_target = bci.load(root = './data_bci')\n",
    "print(str(type(train_input)), train_input.size()) \n",
    "print(str(type(train_target)), train_target.size())\n",
    "test_input , test_target = bci.load(root = './data_bci', train = False)\n",
    "print(str(type(test_input)), test_input.size()) \n",
    "print(str(type(test_target)), test_target.size())"
   ]
  },
  {
   "cell_type": "code",
   "execution_count": null,
   "metadata": {},
   "outputs": [],
   "source": [
    "train_input, train_target = Variable(train_input), Variable(train_target)\n",
    "test_input, test_target = Variable(test_input), Variable(test_target)"
   ]
  },
  {
   "cell_type": "markdown",
   "metadata": {},
   "source": [
    "#### Data normalization"
   ]
  },
  {
   "cell_type": "code",
   "execution_count": null,
   "metadata": {},
   "outputs": [],
   "source": [
    "mu, std = train_input.mean(0), train_input.std(0)\n",
    "train_input.sub_(mu).div_(std)\n",
    "test_input.sub_(mu).div_(std)\n",
    "print(\"Normalization is done!\")"
   ]
  },
  {
   "cell_type": "markdown",
   "metadata": {},
   "source": [
    "#### Utility functions"
   ]
  },
  {
   "cell_type": "code",
   "execution_count": 75,
   "metadata": {
    "collapsed": true
   },
   "outputs": [],
   "source": [
    "def train_model(model, train_input, train_target, nb_epochs = 200):\n",
    "    criterion = nn.CrossEntropyLoss()\n",
    "    optimizer = optim.Adam(model.parameters(), lr = 0.01)\n",
    "    costs = []\n",
    "    \n",
    "    for e in range(0, nb_epochs):\n",
    "        cost = 0\n",
    "        for b in range(0, train_input.size(0), mini_batch_size):\n",
    "            output = model(train_input.narrow(0, b, mini_batch_size))\n",
    "            loss = criterion(output, train_target.narrow(0, b, mini_batch_size))\n",
    "            model.zero_grad()\n",
    "            loss.backward()\n",
    "            cost += loss.data[0]\n",
    "            optimizer.step()\n",
    "        costs.append(cost)\n",
    "    return costs\n",
    "\n",
    "def compute_nb_errors(model, data_input, data_target):\n",
    "\n",
    "    nb_data_errors = 0\n",
    "\n",
    "    for b in range(0, data_input.size(0), mini_batch_size):\n",
    "        output = model(data_input.narrow(0, b, mini_batch_size))\n",
    "        _, predicted_classes = torch.max(output.data, 1)\n",
    "        for k in range(0, mini_batch_size):\n",
    "            if data_target.data[b + k] != predicted_classes[k]:\n",
    "                nb_data_errors = nb_data_errors + 1\n",
    "\n",
    "    return nb_data_errors"
   ]
  },
  {
   "cell_type": "markdown",
   "metadata": {},
   "source": [
    "### 1. Linear model"
   ]
  },
  {
   "cell_type": "markdown",
   "metadata": {},
   "source": [
    "### 2. Fully connected model"
   ]
  },
  {
   "cell_type": "markdown",
   "metadata": {},
   "source": [
    "#### Create network"
   ]
  },
  {
   "cell_type": "code",
   "execution_count": 26,
   "metadata": {},
   "outputs": [],
   "source": [
    "class FC_net(nn.Module):\n",
    "    def __init__(self, layers):\n",
    "        super(FC_net, self).__init__() \n",
    "        self.additional_hidden = nn.ModuleList()\n",
    "        for l in range(len(layers)-1):\n",
    "            self.additional_hidden.append(nn.Linear(layers[l], layers[l+1]))\n",
    "\n",
    "    def forward(self, x):\n",
    "        x=x.view(x.shape[0], -1)\n",
    "        for l in range(len(self.additional_hidden)-1):\n",
    "            x = F.relu(self.additional_hidden[l](x))\n",
    "        x = self.additional_hidden[-1](x)\n",
    "        return x"
   ]
  },
  {
   "cell_type": "markdown",
   "metadata": {},
   "source": [
    "#### Train network"
   ]
  },
  {
   "cell_type": "code",
   "execution_count": 35,
   "metadata": {},
   "outputs": [
    {
     "data": {
      "text/plain": [
       "[<matplotlib.lines.Line2D at 0x10e6b47f0>]"
      ]
     },
     "execution_count": 35,
     "metadata": {},
     "output_type": "execute_result"
    },
    {
     "data": {
      "image/png": "[encoded data removed]",
      "text/plain": [
       "<matplotlib.figure.Figure at 0x10ca3ac88>"
      ]
     },
     "metadata": {},
     "output_type": "display_data"
    }
   ],
   "source": [
    "#check model parameters\n",
    "layers = [train_input.view(train_input.shape[0], -1).shape[1], 5, 2]\n",
    "model_fc = FC_net(layers)\n",
    "for k in model_fc.parameters():\n",
    "    print(k.size())\n",
    "    \n",
    "mini_batch_size = 79\n",
    "nb_epochs = 2000\n",
    "costs = train_model(model_fc, train_input, train_target, nb_epochs)\n",
    "plot (range(nb_epochs), costs)"
   ]
  },
  {
   "cell_type": "markdown",
   "metadata": {},
   "source": [
    "#### Assess network"
   ]
  },
  {
   "cell_type": "code",
   "execution_count": 36,
   "metadata": {},
   "outputs": [
    {
     "name": "stdout",
     "output_type": "stream",
     "text": [
      "train_error 1.27%\n",
      "test_error 31.00%\n"
     ]
    }
   ],
   "source": [
    "mini_batch_size = 79\n",
    "print('train_error {:.02f}%'.format(\n",
    "            compute_nb_errors(model_fc, train_input, train_target) / train_input.size(0) * 100))\n",
    "mini_batch_size = 20\n",
    "print('test_error {:.02f}%'.format(\n",
    "            compute_nb_errors(model_fc, test_input, test_target) / test_input.size(0) * 100))\n",
    "\n",
    "# print(\"train data error = {}/316 %\".format(compute_nb_errors(model, train_input, train_target))\n",
    "# compute_nb_errors(model, test_input, test_target)"
   ]
  },
  {
   "cell_type": "code",
   "execution_count": null,
   "metadata": {
    "collapsed": true
   },
   "outputs": [],
   "source": [
    "#add regularisation"
   ]
  },
  {
   "cell_type": "code",
   "execution_count": null,
   "metadata": {
    "collapsed": true
   },
   "outputs": [],
   "source": [
    "#train model few times and take average, because of different initialization"
   ]
  },
  {
   "cell_type": "markdown",
   "metadata": {},
   "source": [
    "### 3. Convolutional neural network"
   ]
  },
  {
   "cell_type": "code",
   "execution_count": 76,
   "metadata": {
    "collapsed": true
   },
   "outputs": [],
   "source": [
    "layers = [5, 2]\n",
    "layers_conv = [28, 8]\n",
    "kernel_size = [6]\n",
    "pooling_kernel_size = [3]\n",
    "class Conv_net(nn.Module):\n",
    "    def __init__(self, layers, layers_conv, kernel_size, pooling_kernel_size):\n",
    "        super(Conv_net, self).__init__()\n",
    "        self.pooling_kernel_size = pooling_kernel_size\n",
    "        self.additional_conv_hidden = nn.ModuleList()\n",
    "        self.additional_fc_hidden = nn.ModuleList()\n",
    "        for l in range(len(layers_conv)-1):\n",
    "            self.additional_conv_hidden.append(nn.Conv1d(layers_conv[l], layers_conv[l+1], kernel_size=kernel_size[l]))\n",
    "        size = train_input.shape[2]\n",
    "        #print(size)\n",
    "        for i in range(len(kernel_size)):\n",
    "            size-=(kernel_size[i]-1)\n",
    "            #print(size)\n",
    "            size//=pooling_kernel_size[i]\n",
    "            #print(size)\n",
    "        #print(size)\n",
    "        #print(layers_conv[-1])\n",
    "        self.additional_fc_hidden.append(nn.Linear(size*layers_conv[-1], layers[0]))   \n",
    "        self.flat_size = size*layers_conv[-1]\n",
    "        \n",
    "        for l in range(len(layers)-1):\n",
    "            self.additional_fc_hidden.append(nn.Linear(layers[l], layers[l+1]))\n",
    "\n",
    "    def forward(self, x):\n",
    "        for l in range(len(self.additional_conv_hidden)):\n",
    "            x = F.relu(F.max_pool1d(self.additional_conv_hidden[l](x), kernel_size=self.pooling_kernel_size[l]))\n",
    "        x=x.view(-1, self.flat_size)\n",
    "        for l in range(len(self.additional_fc_hidden)-1):\n",
    "            x = F.relu(self.additional_fc_hidden[l](x))\n",
    "        x = self.additional_fc_hidden[-1](x)\n",
    "        return x"
   ]
  },
  {
   "cell_type": "markdown",
   "metadata": {},
   "source": [
    "#### Train network"
   ]
  },
  {
   "cell_type": "code",
   "execution_count": 88,
   "metadata": {},
   "outputs": [
    {
     "name": "stdout",
     "output_type": "stream",
     "text": [
      "torch.Size([8, 28, 6])\n",
      "torch.Size([8])\n",
      "torch.Size([5, 120])\n",
      "torch.Size([5])\n",
      "torch.Size([2, 5])\n",
      "torch.Size([2])\n"
     ]
    }
   ],
   "source": [
    "model_conv = Conv_net(layers, layers_conv, kernel_size, pooling_kernel_size)\n",
    "for k in model_conv.parameters():\n",
    "    print(k.size())\n",
    "    \n",
    "mini_batch_size = 79\n",
    "nb_epochs = 700\n",
    "costs = train_model(model_conv, train_input, train_target, nb_epochs)"
   ]
  },
  {
   "cell_type": "code",
   "execution_count": 89,
   "metadata": {
    "scrolled": true
   },
   "outputs": [
    {
     "data": {
      "text/plain": [
       "[<matplotlib.lines.Line2D at 0x1141c6128>]"
      ]
     },
     "execution_count": 89,
     "metadata": {},
     "output_type": "execute_result"
    },
    {
     "data": {
      "image/png": "[encoded data removed]",
      "text/plain": [
       "<matplotlib.figure.Figure at 0x114074e80>"
      ]
     },
     "metadata": {},
     "output_type": "display_data"
    }
   ],
   "source": [
    "plot (range(nb_epochs), costs)"
   ]
  },
  {
   "cell_type": "code",
   "execution_count": 90,
   "metadata": {},
   "outputs": [
    {
     "name": "stdout",
     "output_type": "stream",
     "text": [
      "train_error 0.95%\n",
      "test_error 25.00%\n"
     ]
    }
   ],
   "source": [
    "mini_batch_size = 79\n",
    "print('train_error {:.02f}%'.format(\n",
    "            compute_nb_errors(model_conv, train_input, train_target) / train_input.size(0) * 100))\n",
    "mini_batch_size = 20\n",
    "print('test_error {:.02f}%'.format(\n",
    "            compute_nb_errors(model_conv, test_input, test_target) / test_input.size(0) * 100))"
   ]
  },
  {
   "cell_type": "code",
   "execution_count": null,
   "metadata": {
    "collapsed": true
   },
   "outputs": [],
   "source": []
  },
  {
   "cell_type": "code",
   "execution_count": null,
   "metadata": {
    "collapsed": true
   },
   "outputs": [],
   "source": []
  }
 ],
 "metadata": {
  "kernelspec": {
   "display_name": "Python 3",
   "language": "python",
   "name": "python3"
  },
  "language_info": {
   "codemirror_mode": {
    "name": "ipython",
    "version": 3
   },
   "file_extension": ".py",
   "mimetype": "text/x-python",
   "name": "python",
   "nbconvert_exporter": "python",
   "pygments_lexer": "ipython3",
   "version": "3.6.2"
  }
 },
 "nbformat": 4,
 "nbformat_minor": 2
}
