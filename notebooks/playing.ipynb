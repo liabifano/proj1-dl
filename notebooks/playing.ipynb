{
 "cells": [
  {
   "cell_type": "code",
   "execution_count": 32,
   "metadata": {},
   "outputs": [],
   "source": [
    "import os\n",
    "import errno\n",
    "import torch\n",
    "from torch import nn, optim\n",
    "from os import path\n",
    "import sys\n",
    "import gzip\n",
    "import urllib.request as request\n",
    "\n",
    "import pandas as pd\n",
    "import numpy as np\n",
    "from torch.autograd import Variable\n",
    "\n",
    "from sklearn.decomposition import PCA"
   ]
  },
  {
   "cell_type": "code",
   "execution_count": 2,
   "metadata": {},
   "outputs": [],
   "source": [
    "# xunxo \n",
    "PREFIX_PATH = os.path.abspath(os.path.join(os.getcwd(), '..', 'resources'))\n",
    "train_path = os.path.join(PREFIX_PATH, 'sp1s_aa_train.txt')\n",
    "test_path = os.path.join(PREFIX_PATH, 'sp1s_aa_test.txt')\n",
    "target_test_path = os.path.join(PREFIX_PATH, 'labels_data_set_iv.txt')"
   ]
  },
  {
   "cell_type": "markdown",
   "metadata": {},
   "source": [
    "# Reading Data"
   ]
  },
  {
   "cell_type": "code",
   "execution_count": 3,
   "metadata": {},
   "outputs": [],
   "source": [
    "all_train = np.loadtxt(train_path)\n",
    "y_train, X_train = torch.from_numpy(all_train[:,0]).long(), torch.from_numpy(all_train[:,1:]).float()\n",
    "y_test, X_test = torch.from_numpy(np.loadtxt(target_test_path)).long(), torch.from_numpy(np.loadtxt(test_path)).float()"
   ]
  },
  {
   "cell_type": "code",
   "execution_count": 4,
   "metadata": {},
   "outputs": [],
   "source": [
    "def train(model, loss, optimizer, x, y):\n",
    "    x = Variable(x, requires_grad=False)\n",
    "    y = Variable(y, requires_grad=False)\n",
    "\n",
    "    optimizer.zero_grad()\n",
    "    fx = model.forward(x)\n",
    "    output = loss.forward(fx, y)\n",
    "    output.backward()\n",
    "    optimizer.step()\n",
    "\n",
    "    return output.data[0]"
   ]
  },
  {
   "cell_type": "markdown",
   "metadata": {},
   "source": [
    "# Basic Analysis"
   ]
  },
  {
   "cell_type": "code",
   "execution_count": 30,
   "metadata": {},
   "outputs": [
    {
     "name": "stdout",
     "output_type": "stream",
     "text": [
      "% of target=1: 49.68%\n"
     ]
    }
   ],
   "source": [
    "print('% of target=1: {}%'.format(round(y_train.sum()*100 / len(y_train), 2)))"
   ]
  },
  {
   "cell_type": "markdown",
   "metadata": {},
   "source": [
    "Data set is balanced. \n",
    "\n",
    "Let's see if by each feature the mean is about the same. If there is a feature with mean very different from mean for both targets `{0,1}` then this feature is very discriminant"
   ]
  },
  {
   "cell_type": "code",
   "execution_count": null,
   "metadata": {},
   "outputs": [],
   "source": [
    "pos0 = y"
   ]
  },
  {
   "cell_type": "code",
   "execution_count": null,
   "metadata": {},
   "outputs": [],
   "source": []
  },
  {
   "cell_type": "code",
   "execution_count": 43,
   "metadata": {},
   "outputs": [
    {
     "data": {
      "text/plain": [
       "0.8532811953885572"
      ]
     },
     "execution_count": 43,
     "metadata": {},
     "output_type": "execute_result"
    }
   ],
   "source": [
    "pca = PCA(n_components=len(X_train))\n",
    "pca.fit_transform(X_train)\n",
    "pca.explained_variance_ratio_[0:3].sum()"
   ]
  },
  {
   "cell_type": "markdown",
   "metadata": {},
   "source": [
    "# Linear Model"
   ]
  },
  {
   "cell_type": "code",
   "execution_count": 13,
   "metadata": {
    "scrolled": false
   },
   "outputs": [
    {
     "name": "stdout",
     "output_type": "stream",
     "text": [
      "Epoch 0, cost = 10789.646023, acc = 49.00%\n",
      "Epoch 9, cost = 10449.838133, acc = 66.00%\n",
      "Epoch 18, cost = 7158.353319, acc = 70.00%\n",
      "Epoch 27, cost = 5023.423771, acc = 70.00%\n",
      "Epoch 36, cost = 2278.812549, acc = 70.00%\n",
      "Epoch 45, cost = 8602.033896, acc = 56.00%\n",
      "Epoch 54, cost = 2123.439958, acc = 73.00%\n",
      "Epoch 63, cost = 3782.842390, acc = 71.00%\n",
      "Epoch 72, cost = 1582.885766, acc = 71.00%\n",
      "Epoch 81, cost = 692.542867, acc = 73.00%\n",
      "Epoch 90, cost = 4523.643245, acc = 69.00%\n",
      "Epoch 99, cost = 541.777342, acc = 71.00%\n"
     ]
    }
   ],
   "source": [
    "torch.manual_seed(123)\n",
    "\n",
    "def linear_model(input_dim, output_dim):\n",
    "    model = torch.nn.Sequential()\n",
    "    model.add_module(\"linear\",\n",
    "                     torch.nn.Linear(input_dim, output_dim, bias=False))\n",
    "    return model\n",
    "\n",
    "n_examples, n_features = X_train.size()\n",
    "n_classes = 2\n",
    "model = linear_model(n_features, n_classes)\n",
    "loss = torch.nn.CrossEntropyLoss(size_average=True)\n",
    "optimizer = optim.SGD(model.parameters(), lr=0.01, momentum=0.9)\n",
    "batch_size = 10\n",
    "\n",
    "\n",
    "for i in range(100):\n",
    "    cost = 0.\n",
    "    num_batches = n_examples // batch_size\n",
    "    for k in range(num_batches):\n",
    "        start, end = k * batch_size, (k + 1) * batch_size\n",
    "        cost += train(model, loss, optimizer, X_train[start:end], y_train[start:end])\n",
    "    \n",
    "    X_to_predict = Variable(X_test, requires_grad=False)\n",
    "    predictions = model.forward(X_to_predict).data.numpy().argmax(axis=1)\n",
    "    \n",
    "    if(i % 9 == 0):\n",
    "        print(\"Epoch %d, cost = %f, acc = %.2f%%\"\n",
    "              % (i, cost / num_batches, 100. * np.mean(predictions == y_test)))"
   ]
  },
  {
   "cell_type": "markdown",
   "metadata": {},
   "source": [
    "# Linear model with bias"
   ]
  },
  {
   "cell_type": "code",
   "execution_count": 14,
   "metadata": {},
   "outputs": [
    {
     "name": "stdout",
     "output_type": "stream",
     "text": [
      "Epoch 0, cost = 10790.132277, acc = 49.00%\n",
      "Epoch 9, cost = 4044.321712, acc = 63.00%\n",
      "Epoch 18, cost = 7549.645196, acc = 67.00%\n",
      "Epoch 27, cost = 2149.728992, acc = 63.00%\n",
      "Epoch 36, cost = 4044.727492, acc = 57.00%\n",
      "Epoch 45, cost = 5866.386057, acc = 65.00%\n",
      "Epoch 54, cost = 6233.332675, acc = 74.00%\n",
      "Epoch 63, cost = 1143.681443, acc = 71.00%\n",
      "Epoch 72, cost = 1107.908116, acc = 73.00%\n",
      "Epoch 81, cost = 1321.056231, acc = 73.00%\n",
      "Epoch 90, cost = 765.724606, acc = 71.00%\n",
      "Epoch 99, cost = 1031.378899, acc = 73.00%\n"
     ]
    }
   ],
   "source": [
    "torch.manual_seed(123)\n",
    "\n",
    "def linear_model(input_dim, output_dim):\n",
    "    model = torch.nn.Sequential()\n",
    "    model.add_module(\"linear\",\n",
    "                     torch.nn.Linear(input_dim, output_dim, bias=True))\n",
    "    return model\n",
    "\n",
    "n_examples, n_features = X_train.size()\n",
    "n_classes = 2\n",
    "model = linear_model(n_features, n_classes)\n",
    "loss = torch.nn.CrossEntropyLoss(size_average=True)\n",
    "optimizer = optim.SGD(model.parameters(), lr=0.01, momentum=0.9)\n",
    "batch_size = 10\n",
    "\n",
    "\n",
    "for i in range(100):\n",
    "    cost = 0.\n",
    "    num_batches = n_examples // batch_size\n",
    "    for k in range(num_batches):\n",
    "        start, end = k * batch_size, (k + 1) * batch_size\n",
    "        cost += train(model, loss, optimizer, X_train[start:end], y_train[start:end])\n",
    "    \n",
    "    X_to_predict = Variable(X_test, requires_grad=False)\n",
    "    predictions = model.forward(X_to_predict).data.numpy().argmax(axis=1)\n",
    "    \n",
    "    if(i % 9 == 0):\n",
    "        print(\"Epoch %d, cost = %f, acc = %.2f%%\"\n",
    "              % (i, cost / num_batches, 100. * np.mean(predictions == y_test)))"
   ]
  },
  {
   "cell_type": "markdown",
   "metadata": {},
   "source": [
    "# Linear model with Dropout"
   ]
  },
  {
   "cell_type": "code",
   "execution_count": null,
   "metadata": {},
   "outputs": [],
   "source": [
    "torch.manual_seed(123)\n",
    "\n",
    "def linear_model(input_dim, output_dim):\n",
    "    model = torch.nn.Sequential()\n",
    "    model.add_module(\"linear\",\n",
    "                     torch.nn.Linear(input_dim, output_dim, bias=True))\n",
    "    return model\n",
    "\n",
    "n_examples, n_features = X_train.size()\n",
    "n_classes = 2\n",
    "model = linear_model(n_features, n_classes)\n",
    "loss = torch.nn.CrossEntropyLoss(size_average=True)\n",
    "optimizer = optim.SGD(model.parameters(), lr=0.01, momentum=0.9)\n",
    "batch_size = 10\n",
    "\n",
    "\n",
    "for i in range(100):\n",
    "    cost = 0.\n",
    "    num_batches = n_examples // batch_size\n",
    "    for k in range(num_batches):\n",
    "        start, end = k * batch_size, (k + 1) * batch_size\n",
    "        cost += train(model, loss, optimizer, X_train[start:end], y_train[start:end])\n",
    "    \n",
    "    X_to_predict = Variable(X_test, requires_grad=False)\n",
    "    predictions = model.forward(X_to_predict).data.numpy().argmax(axis=1)\n",
    "    \n",
    "    if(i % 9 == 0):\n",
    "        print(\"Epoch %d, cost = %f, acc = %.2f%%\"\n",
    "              % (i, cost / num_batches, 100. * np.mean(predictions == y_test)))"
   ]
  },
  {
   "cell_type": "markdown",
   "metadata": {},
   "source": [
    "# Conclusion for now.."
   ]
  },
  {
   "cell_type": "code",
   "execution_count": null,
   "metadata": {},
   "outputs": [],
   "source": []
  }
 ],
 "metadata": {
  "kernelspec": {
   "display_name": "Python 3",
   "language": "python",
   "name": "python3"
  },
  "language_info": {
   "codemirror_mode": {
    "name": "ipython",
    "version": 3
   },
   "file_extension": ".py",
   "mimetype": "text/x-python",
   "name": "python",
   "nbconvert_exporter": "python",
   "pygments_lexer": "ipython3",
   "version": "3.6.4"
  }
 },
 "nbformat": 4,
 "nbformat_minor": 2
}
